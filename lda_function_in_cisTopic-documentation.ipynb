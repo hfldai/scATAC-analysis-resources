{
 "cells": [
  {
   "cell_type": "markdown",
   "metadata": {},
   "source": [
    "* Original function:`lda.collapsed.gibbs.sampler(documents, K, vocab, num.iterations, alpha, eta, initial = NULL, burnin = NULL, compute.log.likelihood = FALSE, trace = 0L, freeze.topics = FALSE)`\n",
    "https://www.rdocumentation.org/packages/lda/versions/1.4.2/topics/lda.collapsed.gibbs.sampler\n",
    "\n",
    "The function uses a collapsed Gibbs sampler to fit the lda model"
   ]
  },
  {
   "cell_type": "markdown",
   "metadata": {},
   "source": [
    " * Function used in cisTopic:`lda.collapsed.gibbs.sampler(cellList, t, regionList, num.iterations=iterations, alpha=alpha/t, eta=beta, compute.log.likelihood = TRUE, burnin=burnin, ...)[-1]`\n",
    "\n",
    "\n",
    "* K = number of topics\n",
    "* V = number of regions\n",
    "* D = number of cells\n",
    "\n",
    "#### Arguments\n",
    "* **cellList**    A list whose length is equal to the number of cells, D. Each element of cellList is an integer matrix with two rows. Each column of _cellList[[i]]}_ (i.e., cell $i$) represents a region occurring in the cell. _cellList[[i]][1, j]_ is a 0-indexed word identifier for the jth region in cell **$i$**. That is, this should be an **$j$**-1 into regionList. _cellList[[i]][2, j]_ is an integer specifying the number of times that region appears in the cell, which equals to 1 for all regions and cells in cisTopic (since binary count matrix is used).\n",
    "* **K**   An integer representing the number of topics in the model.\n",
    "* **regionList**  A character vector specifying the regions associated with the region indices used in cellList\n",
    "* **num.iterations** The number of sweeps of Gibbs sampling over the entire corpus to mak,\n",
    "* **alpha** The scalar value of the Dirichlet hyperparameter for topic proportions.\n",
    "* **eta** The scalar value of the Dirichlet hyperparamater for topic multinomials\n",
    "* **burnin** A scalar integer indicating the number of Gibbs sweeps to consider as burn-in. If this parameter is non-NULL, it will also have the side-effect of enabling the **document_expects** field of the output. Note that burnin iterations do NOT count towards **num.iterations**.\n",
    "* **compute.log.likelihood** A scalar logical which when TRUE will cause the sampler to compute the log likelihood of the regions (to within a constant factor) after each sweep over the variables. The log likelihood for each iteration is stored in the **log.likelihood** field of the output. This is useful for assessing convergence, but slows things down a tiny bit.\n",
    "\n",
    "\n",
    "#### Outputs\n",
    "A fitted model as a list with the following components:\n",
    "* **topics** A K×V matrix where each entry indicates the number of times a region (column) was assigned to a topic (row). The column names should correspond to the regions given in regionList.\n",
    "* **topic_sums** A length K vector where each entry indicates the total number of times regions were assigned to each topic.\n",
    "* **document_sums**  A K×D matrix where each entry is an integer indicating the number of times regions in each cell (column) were assigned to each topic (column).\n",
    "* **document_expects** This field only exists if burnin is non-NULL. This field is similar to **document_sums**, but instead of aggregating counts for the last iteration, this field aggegates counts over all iterations after burnin.\n",
    "* **log.likelihoods** Only for `lda.collapsed.gibbs.sampler`. A matrix with 2 rows and num.iterations columns of log likelihoods when the flag compute.log.likelihood is set to TRUE. The first row contains the full log likelihood (including the prior), whereas the second row contains the log likelihood of the observations conditioned on the assignments."
   ]
  },
  {
   "cell_type": "code",
   "execution_count": null,
   "metadata": {},
   "outputs": [],
   "source": []
  }
 ],
 "metadata": {
  "kernelspec": {
   "display_name": "Python 3",
   "language": "python",
   "name": "python3"
  },
  "language_info": {
   "codemirror_mode": {
    "name": "ipython",
    "version": 3
   },
   "file_extension": ".py",
   "mimetype": "text/x-python",
   "name": "python",
   "nbconvert_exporter": "python",
   "pygments_lexer": "ipython3",
   "version": "3.7.4"
  }
 },
 "nbformat": 4,
 "nbformat_minor": 2
}
